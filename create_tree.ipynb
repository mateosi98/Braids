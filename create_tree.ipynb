{
 "cells": [
  {
   "cell_type": "code",
   "execution_count": 76,
   "metadata": {},
   "outputs": [],
   "source": [
    "import numpy as np \n",
    "import pandas as pd"
   ]
  },
  {
   "cell_type": "code",
   "execution_count": 99,
   "metadata": {},
   "outputs": [],
   "source": [
    "dir_name = \"Your dir",
    "strands = 3\n",
    "length = 6\n",
    "depth = 10\n",
    "df_braid_moves = pd.DataFrame(columns=['braid','moves','labels'])"
   ]
  },
  {
   "cell_type": "code",
   "execution_count": 100,
   "metadata": {},
   "outputs": [],
   "source": [
    "def unique_tuples(list_of_tuples):\n",
    "    new_list = []\n",
    "    for tup in list_of_tuples:\n",
    "        if tup not in new_list:\n",
    "            new_list.append(tup)\n",
    "    return new_list"
   ]
  },
  {
   "cell_type": "code",
   "execution_count": 101,
   "metadata": {},
   "outputs": [],
   "source": [
    "def new_level(son, position, move, df_braid_moves):\n",
    "    braid_list = df_braid_moves['braid'].values.tolist()\n",
    "    new_tuple =  (position,move)\n",
    "    new_label =  (position*(strands*2+4)+move)\n",
    "    if son in braid_list:\n",
    "        pass\n",
    "    else:\n",
    "        df_braid_moves.loc[len(braid_list)] = [son, [new_tuple], [new_label]]\n",
    "    return df_braid_moves"
   ]
  },
  {
   "cell_type": "code",
   "execution_count": 102,
   "metadata": {},
   "outputs": [],
   "source": [
    "def create_tree(length, strands, depth, father, df_braid_moves):\n",
    "    if depth == 0:\n",
    "        return \n",
    "    else:\n",
    "        for position in range(length-1):\n",
    "            if father[position] == 0 and father[position+1] == 0:\n",
    "                for move in range(1,strands):\n",
    "                    strand = move\n",
    "                    son = father.copy()\n",
    "                    son[position], son[position+1] = strand, -strand\n",
    "                    strand += 1\n",
    "                    df_braid_moves = new_level(son, position, move, df_braid_moves)\n",
    "                    create_tree(length, strands, depth-1, son, df_braid_moves)\n",
    "                for move in range(strands,strands*2-1):\n",
    "                    strand = move + 1 - strands\n",
    "                    son = father.copy()\n",
    "                    son[position], son[position+1] = -strand, strand\n",
    "                    strand += 1\n",
    "                    df_braid_moves = new_level(son, position, move, df_braid_moves)\n",
    "                    create_tree(length, strands, depth-1, son, df_braid_moves)  \n",
    "            if (father[position] == 0 and father[position+1] != 0) or (father[position] != 0 and father[position+1] == 0):\n",
    "                move = strands*2-1\n",
    "                son = father.copy()\n",
    "                son[position], son[position+1] = son[position+1], son[position]\n",
    "                df_braid_moves = new_level(son, position, move, df_braid_moves)\n",
    "                create_tree(length, strands, depth-1, son, df_braid_moves)  \n",
    "            if position < length-2 and all(item != 0 for item in father[position:position+3]) and abs(father[position]) == abs(father[position+2]):\n",
    "                if father[position] == father[position+2] and (father[position] == father[position+1]+1 or father[position] == father[position+1]-1):\n",
    "                    move = strands*2\n",
    "                    son = father.copy()\n",
    "                    son[position], son[position+1], son[position+2] = son[position+1], son[position], son[position+1]\n",
    "                    df_braid_moves = new_level(son, position, move, df_braid_moves)\n",
    "                    create_tree(length, strands, depth-1, son, df_braid_moves)\n",
    "                else:\n",
    "                    if father[position] == father[position+1]+1:\n",
    "                        move = strands*2+1\n",
    "                        son = father.copy()\n",
    "                        son[position], son[position+1], son[position+2] = son[position+2]+1, son[position], son[position+1]\n",
    "                        df_braid_moves = new_level(son, position, move, df_braid_moves)\n",
    "                        create_tree(length, strands, depth-1, son, df_braid_moves)\n",
    "                    else:\n",
    "                        if father[position+1] == father[position+2]+1:\n",
    "                            move = strands*2+2\n",
    "                            son = father.copy()\n",
    "                            son[position], son[position+1], son[position+2] = son[position+1], son[position+2], son[position]-1\n",
    "                            df_braid_moves = new_level(son, position, move, df_braid_moves)\n",
    "                            create_tree(length, strands, depth-1, son, df_braid_moves)\n",
    "                        else:\n",
    "                            if father[position+1]+1 == father[position+2]:\n",
    "                                move = strands*2+3\n",
    "                                son = father.copy()\n",
    "                                son[position], son[position+1], son[position+2] = son[position+1], son[position+2], son[position]+1\n",
    "                                df_braid_moves = new_level(son, position, move, df_braid_moves)\n",
    "                                create_tree(length, strands, depth-1, son, df_braid_moves)\n",
    "                            else:\n",
    "                                if father[position]+1 == father[position+1]:\n",
    "                                    move = strands*2+4\n",
    "                                    son = father.copy()\n",
    "                                    son[position], son[position+1], son[position+2] = son[position+2]-1, son[position], son[position+1]\n",
    "                                    df_braid_moves = new_level(son, position, move, df_braid_moves)\n",
    "                                    create_tree(length, strands, depth-1, son, df_braid_moves)\n"
   ]
  },
  {
   "cell_type": "code",
   "execution_count": 103,
   "metadata": {},
   "outputs": [],
   "source": [
    "def reduce_word_in_kei_group(w):\n",
    "    reduced = True\n",
    "    while(reduced):\n",
    "        reduced = False\n",
    "        for i in range(len(w)-1):\n",
    "            if w[i] == w[i+1]:\n",
    "                w.pop(i)\n",
    "                w.pop(i)\n",
    "                reduced = True\n",
    "                break\n",
    "\n",
    "def apply_sigma_negative(i, words):\n",
    "    (words[i], words[i+1]) = (words[i] + words[i+1] + words[i], words[i])\n",
    "\n",
    "def apply_sigma_positive(i, words):\n",
    "    (words[i], words[i+1]) = (words[i+1], words[i+1] + words[i] + words[i+1])\n",
    "\n",
    "def braid_to_automorphisms(braid, words):\n",
    "    for s in braid:\n",
    "        if s > 0:\n",
    "            apply_sigma_positive(s-1, words)\n",
    "        elif s < 0:\n",
    "            apply_sigma_negative(-s-1, words)\n",
    "    for i in range(len(words)):\n",
    "        reduce_word_in_kei_group(words[i])\n",
    "\n",
    "def is_braid_trivial(braid, braid_strands):\n",
    "    words = [[i] for i in range(1, braid_strands+1)]\n",
    "    braid_to_automorphisms(braid, words)\n",
    "    is_trivial = True\n",
    "    for i in range(braid_strands):\n",
    "        if words[i] == [i+1]:\n",
    "            continue\n",
    "        is_trivial = False\n",
    "    return is_trivial"
   ]
  },
  {
   "cell_type": "code",
   "execution_count": 104,
   "metadata": {},
   "outputs": [],
   "source": [
    "create_tree(length, strands, depth, [0 for i in range(length)], df_braid_moves)"
   ]
  },
  {
   "cell_type": "code",
   "execution_count": 105,
   "metadata": {},
   "outputs": [
    {
     "data": {
      "text/html": [
       "<div>\n",
       "<style scoped>\n",
       "    .dataframe tbody tr th:only-of-type {\n",
       "        vertical-align: middle;\n",
       "    }\n",
       "\n",
       "    .dataframe tbody tr th {\n",
       "        vertical-align: top;\n",
       "    }\n",
       "\n",
       "    .dataframe thead th {\n",
       "        text-align: right;\n",
       "    }\n",
       "</style>\n",
       "<table border=\"1\" class=\"dataframe\">\n",
       "  <thead>\n",
       "    <tr style=\"text-align: right;\">\n",
       "      <th></th>\n",
       "      <th>braid</th>\n",
       "      <th>moves</th>\n",
       "      <th>labels</th>\n",
       "    </tr>\n",
       "  </thead>\n",
       "  <tbody>\n",
       "    <tr>\n",
       "      <th>0</th>\n",
       "      <td>[1, -1, 0, 0, 0, 0]</td>\n",
       "      <td>[(0, 1)]</td>\n",
       "      <td>[1]</td>\n",
       "    </tr>\n",
       "    <tr>\n",
       "      <th>1</th>\n",
       "      <td>[1, 0, -1, 0, 0, 0]</td>\n",
       "      <td>[(1, 5)]</td>\n",
       "      <td>[15]</td>\n",
       "    </tr>\n",
       "    <tr>\n",
       "      <th>2</th>\n",
       "      <td>[0, 1, -1, 0, 0, 0]</td>\n",
       "      <td>[(0, 5)]</td>\n",
       "      <td>[5]</td>\n",
       "    </tr>\n",
       "    <tr>\n",
       "      <th>3</th>\n",
       "      <td>[0, 1, 0, -1, 0, 0]</td>\n",
       "      <td>[(2, 5)]</td>\n",
       "      <td>[25]</td>\n",
       "    </tr>\n",
       "    <tr>\n",
       "      <th>4</th>\n",
       "      <td>[0, 1, -1, 1, -1, 0]</td>\n",
       "      <td>[(3, 1)]</td>\n",
       "      <td>[31]</td>\n",
       "    </tr>\n",
       "    <tr>\n",
       "      <th>...</th>\n",
       "      <td>...</td>\n",
       "      <td>...</td>\n",
       "      <td>...</td>\n",
       "    </tr>\n",
       "    <tr>\n",
       "      <th>719</th>\n",
       "      <td>[-2, 1, -2, 2, -1, 2]</td>\n",
       "      <td>[(2, 4)]</td>\n",
       "      <td>[24]</td>\n",
       "    </tr>\n",
       "    <tr>\n",
       "      <th>720</th>\n",
       "      <td>[-2, -1, -1, 1, 1, 2]</td>\n",
       "      <td>[(2, 3)]</td>\n",
       "      <td>[23]</td>\n",
       "    </tr>\n",
       "    <tr>\n",
       "      <th>721</th>\n",
       "      <td>[-2, -2, 1, -1, 2, 2]</td>\n",
       "      <td>[(2, 1)]</td>\n",
       "      <td>[21]</td>\n",
       "    </tr>\n",
       "    <tr>\n",
       "      <th>722</th>\n",
       "      <td>[-2, -2, -1, 1, 2, 2]</td>\n",
       "      <td>[(2, 3)]</td>\n",
       "      <td>[23]</td>\n",
       "    </tr>\n",
       "    <tr>\n",
       "      <th>723</th>\n",
       "      <td>[-2, -2, -2, 2, 2, 2]</td>\n",
       "      <td>[(2, 4)]</td>\n",
       "      <td>[24]</td>\n",
       "    </tr>\n",
       "  </tbody>\n",
       "</table>\n",
       "<p>724 rows × 3 columns</p>\n",
       "</div>"
      ],
      "text/plain": [
       "                     braid     moves labels\n",
       "0      [1, -1, 0, 0, 0, 0]  [(0, 1)]    [1]\n",
       "1      [1, 0, -1, 0, 0, 0]  [(1, 5)]   [15]\n",
       "2      [0, 1, -1, 0, 0, 0]  [(0, 5)]    [5]\n",
       "3      [0, 1, 0, -1, 0, 0]  [(2, 5)]   [25]\n",
       "4     [0, 1, -1, 1, -1, 0]  [(3, 1)]   [31]\n",
       "..                     ...       ...    ...\n",
       "719  [-2, 1, -2, 2, -1, 2]  [(2, 4)]   [24]\n",
       "720  [-2, -1, -1, 1, 1, 2]  [(2, 3)]   [23]\n",
       "721  [-2, -2, 1, -1, 2, 2]  [(2, 1)]   [21]\n",
       "722  [-2, -2, -1, 1, 2, 2]  [(2, 3)]   [23]\n",
       "723  [-2, -2, -2, 2, 2, 2]  [(2, 4)]   [24]\n",
       "\n",
       "[724 rows x 3 columns]"
      ]
     },
     "execution_count": 105,
     "metadata": {},
     "output_type": "execute_result"
    }
   ],
   "source": [
    "df_braid_moves"
   ]
  },
  {
   "cell_type": "code",
   "execution_count": 106,
   "metadata": {},
   "outputs": [
    {
     "name": "stdout",
     "output_type": "stream",
     "text": [
      "45\n"
     ]
    }
   ],
   "source": [
    "labels = df_braid_moves['labels'].values.tolist()\n",
    "maxi = 0\n",
    "for label in labels:\n",
    "    if len(label) < 1:\n",
    "        local = label[0]\n",
    "    else:\n",
    "        local = np.max(label)\n",
    "    if local > maxi:\n",
    "        maxi = local\n",
    "print(maxi)"
   ]
  },
  {
   "cell_type": "code",
   "execution_count": 107,
   "metadata": {},
   "outputs": [],
   "source": [
    "braids = df_braid_moves['braid'].values.tolist()\n",
    "n_t, cont = 0, 0\n",
    "index_nt = []\n",
    "for braid in braids:\n",
    "    try:\n",
    "        if not is_braid_trivial(braid,4):\n",
    "            index_nt.append(braids.index(braid))\n",
    "            cont += 1\n",
    "            n_t += 1\n",
    "    except:\n",
    "        index_nt.append(braids.index(braid))"
   ]
  },
  {
   "cell_type": "code",
   "execution_count": 108,
   "metadata": {},
   "outputs": [
    {
     "name": "stdout",
     "output_type": "stream",
     "text": [
      "0\n"
     ]
    }
   ],
   "source": [
    "index_nt\n",
    "df_braid_moves.loc[index_nt]\n",
    "print(n_t)"
   ]
  },
  {
   "cell_type": "code",
   "execution_count": 109,
   "metadata": {},
   "outputs": [],
   "source": [
    "file_name = \"braid_tree_l\"+str(length)+\"_s\"+str(strands)+\"_d\"+str(depth)+\".csv\"\n",
    "df_braid_moves.to_csv(dir_name+file_name)"
   ]
  },
  {
   "cell_type": "code",
   "execution_count": null,
   "metadata": {},
   "outputs": [],
   "source": []
  },
  {
   "cell_type": "code",
   "execution_count": null,
   "metadata": {},
   "outputs": [],
   "source": []
  }
 ],
 "metadata": {
  "kernelspec": {
   "display_name": "Python 3.8.13",
   "language": "python",
   "name": "python3"
  },
  "language_info": {
   "codemirror_mode": {
    "name": "ipython",
    "version": 3
   },
   "file_extension": ".py",
   "mimetype": "text/x-python",
   "name": "python",
   "nbconvert_exporter": "python",
   "pygments_lexer": "ipython3",
   "version": "3.8.13"
  },
  "orig_nbformat": 4,
  "vscode": {
   "interpreter": {
    "hash": "891528a1d40117fda4dd59b915eb92ecd908c376f2625b7bf528c2151a701b26"
   }
  }
 },
 "nbformat": 4,
 "nbformat_minor": 2
}
