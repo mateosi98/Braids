{
 "cells": [
  {
   "cell_type": "code",
   "execution_count": 7,
   "metadata": {},
   "outputs": [],
   "source": [
    "from gym import Env"
   ]
  },
  {
   "cell_type": "code",
   "execution_count": 11,
   "metadata": {},
   "outputs": [],
   "source": [
    "class Una(Env):\n",
    "\n",
    "    def __init__(self, initial_braid, strands, length):\n",
    "        self.initial_braid = initial_braid\n",
    "        self.state = initial_braid\n",
    "        self.strands = strands\n",
    "        self.length = length\n",
    "        self.time = 0\n",
    "    \n",
    "    def step(self, action):\n",
    "        aux_braid = self.state.copy()\n",
    "        position = action // (self.strands*2+4)\n",
    "        move = action % (self.strands*2+4)\n",
    "        if move < self.strands*2-1:\n",
    "            aux_braid[position], aux_braid[position+1] = 0, 0\n",
    "        if move == self.strands*2-1:\n",
    "            aux_braid[position], aux_braid[position+1] = aux_braid[position+1], aux_braid[position]\n",
    "        if move == self.strands*2:\n",
    "            aux_braid[position], aux_braid[position+1], aux_braid[position+2] = aux_braid[position+1], aux_braid[position], aux_braid[position+1]\n",
    "        if move == self.strands*2+1:\n",
    "            aux_braid[position], aux_braid[position+1], aux_braid[position+2] = aux_braid[position+1], aux_braid[position+2], aux_braid[position]-1 \n",
    "        if move == self.strands*2+2:\n",
    "            aux_braid[position], aux_braid[position+1], aux_braid[position+2] = aux_braid[position+2]+1, aux_braid[position], aux_braid[position+1]\n",
    "        if move == self.strands*2+3:\n",
    "            aux_braid[position], aux_braid[position+1], aux_braid[position+2] = aux_braid[position+2]-1, aux_braid[position], aux_braid[position+1]\n",
    "        if move == self.strands*2+4:\n",
    "            aux_braid[position], aux_braid[position+1], aux_braid[position+2] = aux_braid[position+1], aux_braid[position+2], aux_braid[position]-1\n",
    "        self.state = aux_braid.copy()\n",
    "        return self.state\n",
    "    \n",
    "\n"
   ]
  },
  {
   "cell_type": "code",
   "execution_count": 12,
   "metadata": {},
   "outputs": [],
   "source": [
    "m = Una([0, 1, 0, 0, 0, -1], 4, 6)"
   ]
  },
  {
   "cell_type": "code",
   "execution_count": 13,
   "metadata": {},
   "outputs": [
    {
     "data": {
      "text/plain": [
       "[0, 1, 0, 0, -1, 0]"
      ]
     },
     "execution_count": 13,
     "metadata": {},
     "output_type": "execute_result"
    }
   ],
   "source": [
    "m.step(55)"
   ]
  },
  {
   "cell_type": "code",
   "execution_count": 20,
   "metadata": {},
   "outputs": [
    {
     "data": {
      "text/plain": [
       "[0, 1, 0, -1, 0, 0]"
      ]
     },
     "execution_count": 20,
     "metadata": {},
     "output_type": "execute_result"
    }
   ],
   "source": [
    "m.step(19)"
   ]
  },
  {
   "cell_type": "code",
   "execution_count": 22,
   "metadata": {},
   "outputs": [
    {
     "data": {
      "text/plain": [
       "[0, 1, 0, -1, 0, 0]"
      ]
     },
     "execution_count": 22,
     "metadata": {},
     "output_type": "execute_result"
    }
   ],
   "source": [
    "m.step(19)"
   ]
  },
  {
   "cell_type": "code",
   "execution_count": 23,
   "metadata": {},
   "outputs": [
    {
     "data": {
      "text/plain": [
       "[1, 0, 0, -1, 0, 0]"
      ]
     },
     "execution_count": 23,
     "metadata": {},
     "output_type": "execute_result"
    }
   ],
   "source": [
    "m.step(7)"
   ]
  },
  {
   "cell_type": "code",
   "execution_count": 24,
   "metadata": {},
   "outputs": [
    {
     "data": {
      "text/plain": [
       "[0, 1, 0, -1, 0, 0]"
      ]
     },
     "execution_count": 24,
     "metadata": {},
     "output_type": "execute_result"
    }
   ],
   "source": [
    "m.step(7)"
   ]
  },
  {
   "cell_type": "code",
   "execution_count": null,
   "metadata": {},
   "outputs": [],
   "source": []
  }
 ],
 "metadata": {
  "kernelspec": {
   "display_name": "Python 3.8.13",
   "language": "python",
   "name": "python3"
  },
  "language_info": {
   "codemirror_mode": {
    "name": "ipython",
    "version": 3
   },
   "file_extension": ".py",
   "mimetype": "text/x-python",
   "name": "python",
   "nbconvert_exporter": "python",
   "pygments_lexer": "ipython3",
   "version": "3.8.13"
  },
  "orig_nbformat": 4,
  "vscode": {
   "interpreter": {
    "hash": "891528a1d40117fda4dd59b915eb92ecd908c376f2625b7bf528c2151a701b26"
   }
  }
 },
 "nbformat": 4,
 "nbformat_minor": 2
}
